{
 "cells": [
  {
   "cell_type": "markdown",
   "metadata": {},
   "source": [
    "# Regression forecast with seasonality"
   ]
  },
  {
   "cell_type": "markdown",
   "metadata": {},
   "source": [
    "## 1. Importing libraries"
   ]
  },
  {
   "cell_type": "code",
   "execution_count": 1,
   "metadata": {},
   "outputs": [],
   "source": [
    "import pandas as pd\n",
    "import matplotlib.pyplot as plt\n",
    "import numpy as np"
   ]
  },
  {
   "cell_type": "code",
   "execution_count": 2,
   "metadata": {},
   "outputs": [],
   "source": [
    "# Changing parameters\n",
    "pd.set_option('float_format', '{:_.2f}'.format)"
   ]
  },
  {
   "cell_type": "markdown",
   "metadata": {},
   "source": [
    "## 2. Loading the data"
   ]
  },
  {
   "cell_type": "code",
   "execution_count": 3,
   "metadata": {},
   "outputs": [],
   "source": [
    "sales = pd.read_parquet('DATA/sales.parquet')\n",
    "\n",
    "# Inserting new columns to get the month and the year\n",
    "sales['DATE'] = pd.to_datetime(sales['DATE'], format='%d/%m/%y')\n",
    "sales['YEAR'] = sales['DATE'].dt.year\n",
    "sales['MONTH'] = sales['DATE'].dt.month\n",
    "sales['STORE ID'] = sales['STORE ID'].astype('category')\n",
    "sales['CUSTOMER ID'] = sales['CUSTOMER ID'].astype('category')\n",
    "sales['PRODUCT'] = sales['PRODUCT'].astype('category')"
   ]
  },
  {
   "cell_type": "markdown",
   "metadata": {},
   "source": [
    "## 3. Cleaning and transforming the data"
   ]
  },
  {
   "cell_type": "code",
   "execution_count": 4,
   "metadata": {},
   "outputs": [],
   "source": [
    "# Droping non-used rows\n",
    "sales = sales[~sales['STORE ID'].isin(['STORE_5'])]\n",
    "\n",
    "# Filtering the data\n",
    "store = 'STORE_2'\n",
    "\n",
    "# Pivoting the table by the store to get the revenue per store per month\n",
    "store_id = sales[sales['STORE ID'] == store]\n",
    "store_id = store_id.reset_index().copy()\n",
    "store_id = store_id.drop(columns='index')\n",
    "pvt = store_id.pivot_table('TOTAL AMOUNT', index=['YEAR', 'MONTH'], aggfunc='sum')\n",
    "pvt = pvt.reset_index()\n",
    "pvt = pvt.reset_index()"
   ]
  },
  {
   "cell_type": "code",
   "execution_count": 5,
   "metadata": {},
   "outputs": [],
   "source": [
    "# Inserting the last 3 month reforcast\n",
    "pvt['index'] = pvt['index'] + 1\n",
    "pvt['X'] = pvt['index']\n",
    "pvt['Y'] = pvt['TOTAL AMOUNT']\n",
    "pvt = pvt.drop(columns=['index', 'YEAR', 'MONTH', 'TOTAL AMOUNT'])\n",
    "pvt = pvt.drop(axis=0, index=45)\n",
    "\n",
    "STORE_1 = pd.DataFrame({'X': [46, 47, 48], 'Y':[3812768.6, 3956368.1, 3964486.0]})\n",
    "STORE_2 = pd.DataFrame({'X': [46, 47, 48], 'Y':[918437.5, 874062.5, 835312.5]})\n",
    "STORE_3 = pd.DataFrame({'X': [46, 47, 48], 'Y':[453125.0, 453125.0, 437500.0]})\n",
    "STORE_4 = pd.DataFrame({'X': [46, 47, 48], 'Y':[656250.0, 656250.0, 625000.0]})\n",
    "\n",
    "if store_id.loc[0, 'STORE ID'] == 'STORE_1':\n",
    "    pvt = pd.concat([pvt, STORE_1], ignore_index=True)\n",
    "elif store_id.loc[0, 'STORE ID'] == 'STORE_2':\n",
    "    pvt = pd.concat([pvt, STORE_2], ignore_index=True)\n",
    "elif store_id.loc[0, 'STORE ID'] == 'STORE_3':\n",
    "    pvt = pd.concat([pvt, STORE_3], ignore_index=True)\n",
    "elif store_id.loc[0, 'STORE ID'] == 'STORE_4':\n",
    "    pvt = pd.concat([pvt, STORE_4], ignore_index=True)"
   ]
  },
  {
   "cell_type": "markdown",
   "metadata": {},
   "source": [
    "## 4. Forecast"
   ]
  },
  {
   "cell_type": "code",
   "execution_count": 6,
   "metadata": {},
   "outputs": [
    {
     "name": "stdout",
     "output_type": "stream",
     "text": [
      "y = 4351.655718735244x + 626947.7721397496\n",
      "y = [4351.65571874]x + 626947.7721397496\n"
     ]
    }
   ],
   "source": [
    "# Determining the linar regression function using least square method\n",
    "pvt['Xmean'] = pvt['X'].mean()\n",
    "pvt['Ymean'] = pvt['Y'].mean()\n",
    "pvt['xi - Xmean'] = pvt['X'] - pvt['Xmean']\n",
    "pvt['yi - Ymean'] = pvt['Y'] - pvt['Ymean']\n",
    "\n",
    "a = (pvt['xi - Xmean'] * pvt['yi - Ymean']).sum() / (pvt['xi - Xmean']**2).sum()\n",
    "b = pvt['Y'].mean() - (a * pvt['X'].mean())\n",
    "pvt['Yp'] = a * pvt['X'] + b\n",
    "\n",
    "print(f'y = {a}x + {b}')\n",
    "\n",
    "# Determining the linar regression function using least square with sklearn\n",
    "from sklearn.linear_model import LinearRegression\n",
    "\n",
    "reg = LinearRegression().fit(pvt[['X']], pvt['Y'])\n",
    "reg.score(pvt[['X']], pvt['Y'])\n",
    "\n",
    "print(f'y = {reg.coef_}x + {reg.intercept_}')"
   ]
  },
  {
   "cell_type": "code",
   "execution_count": 7,
   "metadata": {},
   "outputs": [
    {
     "data": {
      "text/html": [
       "<div>\n",
       "<style scoped>\n",
       "    .dataframe tbody tr th:only-of-type {\n",
       "        vertical-align: middle;\n",
       "    }\n",
       "\n",
       "    .dataframe tbody tr th {\n",
       "        vertical-align: top;\n",
       "    }\n",
       "\n",
       "    .dataframe thead th {\n",
       "        text-align: right;\n",
       "    }\n",
       "</style>\n",
       "<table border=\"1\" class=\"dataframe\">\n",
       "  <thead>\n",
       "    <tr style=\"text-align: right;\">\n",
       "      <th></th>\n",
       "      <th>X1</th>\n",
       "      <th>Y/Yp</th>\n",
       "    </tr>\n",
       "  </thead>\n",
       "  <tbody>\n",
       "    <tr>\n",
       "      <th>0</th>\n",
       "      <td>1</td>\n",
       "      <td>0.90</td>\n",
       "    </tr>\n",
       "    <tr>\n",
       "      <th>1</th>\n",
       "      <td>2</td>\n",
       "      <td>0.89</td>\n",
       "    </tr>\n",
       "    <tr>\n",
       "      <th>2</th>\n",
       "      <td>3</td>\n",
       "      <td>0.96</td>\n",
       "    </tr>\n",
       "    <tr>\n",
       "      <th>3</th>\n",
       "      <td>4</td>\n",
       "      <td>0.89</td>\n",
       "    </tr>\n",
       "    <tr>\n",
       "      <th>4</th>\n",
       "      <td>5</td>\n",
       "      <td>0.90</td>\n",
       "    </tr>\n",
       "    <tr>\n",
       "      <th>5</th>\n",
       "      <td>6</td>\n",
       "      <td>0.99</td>\n",
       "    </tr>\n",
       "    <tr>\n",
       "      <th>6</th>\n",
       "      <td>7</td>\n",
       "      <td>1.11</td>\n",
       "    </tr>\n",
       "    <tr>\n",
       "      <th>7</th>\n",
       "      <td>8</td>\n",
       "      <td>1.01</td>\n",
       "    </tr>\n",
       "    <tr>\n",
       "      <th>8</th>\n",
       "      <td>9</td>\n",
       "      <td>1.01</td>\n",
       "    </tr>\n",
       "    <tr>\n",
       "      <th>9</th>\n",
       "      <td>10</td>\n",
       "      <td>1.12</td>\n",
       "    </tr>\n",
       "    <tr>\n",
       "      <th>10</th>\n",
       "      <td>11</td>\n",
       "      <td>1.11</td>\n",
       "    </tr>\n",
       "    <tr>\n",
       "      <th>11</th>\n",
       "      <td>12</td>\n",
       "      <td>1.12</td>\n",
       "    </tr>\n",
       "  </tbody>\n",
       "</table>\n",
       "</div>"
      ],
      "text/plain": [
       "    X1  Y/Yp\n",
       "0    1  0.90\n",
       "1    2  0.89\n",
       "2    3  0.96\n",
       "3    4  0.89\n",
       "4    5  0.90\n",
       "5    6  0.99\n",
       "6    7  1.11\n",
       "7    8  1.01\n",
       "8    9  1.01\n",
       "9   10  1.12\n",
       "10  11  1.11\n",
       "11  12  1.12"
      ]
     },
     "execution_count": 7,
     "metadata": {},
     "output_type": "execute_result"
    }
   ],
   "source": [
    "# Finding the seasonality\n",
    "pvt['Y/Yp'] = pvt['Y'] / pvt['Yp']\n",
    "coef = pd.DataFrame({'X1': [i for i in range(1, 13)], 'Y/Yp1': pvt['Y/Yp'].iloc[0:12].to_list(),\n",
    "                     'X2': [i for i in range(13, 25)], 'Y/Yp2': pvt['Y/Yp'].iloc[12:24].to_list(),\n",
    "                     'X3': [i for i in range(25, 37)], 'Y/Yp3': pvt['Y/Yp'].iloc[24:36].to_list(),\n",
    "                     'X4': [i for i in range(37, 49)], 'Y/Yp4': pvt['Y/Yp'].iloc[36:48].to_list()})\n",
    "coef['Y/Yp'] = (coef['Y/Yp1'] + coef['Y/Yp2'] + coef['Y/Yp3'] + coef['Y/Yp4']) / 4\n",
    "coef = coef[['X1', 'Y/Yp']]\n",
    "coef"
   ]
  },
  {
   "cell_type": "code",
   "execution_count": 8,
   "metadata": {},
   "outputs": [
    {
     "data": {
      "text/html": [
       "<div>\n",
       "<style scoped>\n",
       "    .dataframe tbody tr th:only-of-type {\n",
       "        vertical-align: middle;\n",
       "    }\n",
       "\n",
       "    .dataframe tbody tr th {\n",
       "        vertical-align: top;\n",
       "    }\n",
       "\n",
       "    .dataframe thead th {\n",
       "        text-align: right;\n",
       "    }\n",
       "</style>\n",
       "<table border=\"1\" class=\"dataframe\">\n",
       "  <thead>\n",
       "    <tr style=\"text-align: right;\">\n",
       "      <th></th>\n",
       "      <th>month</th>\n",
       "      <th>revenue</th>\n",
       "    </tr>\n",
       "  </thead>\n",
       "  <tbody>\n",
       "    <tr>\n",
       "      <th>0</th>\n",
       "      <td>jan</td>\n",
       "      <td>759_048.75</td>\n",
       "    </tr>\n",
       "    <tr>\n",
       "      <th>1</th>\n",
       "      <td>fev</td>\n",
       "      <td>754_923.02</td>\n",
       "    </tr>\n",
       "    <tr>\n",
       "      <th>2</th>\n",
       "      <td>mar</td>\n",
       "      <td>811_045.58</td>\n",
       "    </tr>\n",
       "    <tr>\n",
       "      <th>3</th>\n",
       "      <td>avr</td>\n",
       "      <td>755_409.54</td>\n",
       "    </tr>\n",
       "    <tr>\n",
       "      <th>4</th>\n",
       "      <td>may</td>\n",
       "      <td>767_786.87</td>\n",
       "    </tr>\n",
       "    <tr>\n",
       "      <th>5</th>\n",
       "      <td>june</td>\n",
       "      <td>849_432.36</td>\n",
       "    </tr>\n",
       "    <tr>\n",
       "      <th>6</th>\n",
       "      <td>jul</td>\n",
       "      <td>963_790.79</td>\n",
       "    </tr>\n",
       "    <tr>\n",
       "      <th>7</th>\n",
       "      <td>aug</td>\n",
       "      <td>879_181.52</td>\n",
       "    </tr>\n",
       "    <tr>\n",
       "      <th>8</th>\n",
       "      <td>sept</td>\n",
       "      <td>883_894.00</td>\n",
       "    </tr>\n",
       "    <tr>\n",
       "      <th>9</th>\n",
       "      <td>oct</td>\n",
       "      <td>981_887.16</td>\n",
       "    </tr>\n",
       "    <tr>\n",
       "      <th>10</th>\n",
       "      <td>nov</td>\n",
       "      <td>977_278.76</td>\n",
       "    </tr>\n",
       "    <tr>\n",
       "      <th>11</th>\n",
       "      <td>dec</td>\n",
       "      <td>998_891.57</td>\n",
       "    </tr>\n",
       "  </tbody>\n",
       "</table>\n",
       "</div>"
      ],
      "text/plain": [
       "   month    revenue\n",
       "0    jan 759_048.75\n",
       "1    fev 754_923.02\n",
       "2    mar 811_045.58\n",
       "3    avr 755_409.54\n",
       "4    may 767_786.87\n",
       "5   june 849_432.36\n",
       "6    jul 963_790.79\n",
       "7    aug 879_181.52\n",
       "8   sept 883_894.00\n",
       "9    oct 981_887.16\n",
       "10   nov 977_278.76\n",
       "11   dec 998_891.57"
      ]
     },
     "execution_count": 8,
     "metadata": {},
     "output_type": "execute_result"
    }
   ],
   "source": [
    "# Forecast\n",
    "proj = pd.DataFrame({'X': [i for i in range(49, 61)]})\n",
    "proj[\"Y'\"] = a * proj['X'] + b\n",
    "proj['coef'] = coef['Y/Yp']\n",
    "proj['Yrect'] = proj[\"Y'\"] * proj['coef']\n",
    "proj['Y'] = proj['Yrect'] \n",
    "proj = proj[['X', 'Y']]\n",
    "pvt = pvt[['X', 'Y']]\n",
    "pvt = pd.concat([pvt, proj], ignore_index=True)\n",
    "pvt['Y'] = pvt['Y']\n",
    "\n",
    "periode =[]\n",
    "for year in range(21, 26):\n",
    "    for month in ['jan', 'fev', 'mar', 'avr', 'may', 'june', 'jul', 'aug', 'sept', 'oct', 'nov', 'dec']:\n",
    "        periode.append(f'{month}-{year}')\n",
    "periode = pd.DataFrame({'per': periode})\n",
    "\n",
    "pvt['X'] = periode['per']\n",
    "pvt['Periode'] = pvt['X']\n",
    "pvt['revenue'] = pvt['Y']\n",
    "pvt = pvt[['Periode', 'revenue']]\n",
    "\n",
    "forecast = pd.DataFrame({'month': ['jan', 'fev', 'mar', 'avr', 'may', 'june', 'jul', 'aug', 'sept', 'oct', 'nov', 'dec'],\n",
    "                       'revenue': pvt.loc[48:59, 'revenue'].to_list()})\n",
    "forecast"
   ]
  },
  {
   "cell_type": "code",
   "execution_count": 9,
   "metadata": {},
   "outputs": [
    {
     "name": "stdout",
     "output_type": "stream",
     "text": [
      "10.47%\n"
     ]
    }
   ],
   "source": [
    "# Determing the growth vs N-1\n",
    "evo = (pvt.loc[48:59, 'revenue'].sum() - pvt.loc[36:47, 'revenue'].sum()) / pvt.loc[36:47, 'revenue'].sum()\n",
    "print(f'{evo:.2%}')"
   ]
  },
  {
   "cell_type": "code",
   "execution_count": 10,
   "metadata": {},
   "outputs": [],
   "source": [
    "# Moving average (5 months)\n",
    "ma = []\n",
    "\n",
    "for i in pvt.index:\n",
    "    if i ==0:\n",
    "        mean_ = pvt.loc[i, 'revenue']\n",
    "        ma.append(mean_)\n",
    "    elif i == 1:\n",
    "        mean_ = (pvt.loc[i, 'revenue'] + pvt.loc[i-1, 'revenue']) / 2\n",
    "        ma.append(mean_)\n",
    "    elif i == 2:\n",
    "        mean_ = (pvt.loc[i, 'revenue'] + pvt.loc[i-1, 'revenue'] + pvt.loc[i-2, 'revenue']) / 3\n",
    "        ma.append(mean_)\n",
    "    elif i == 3:\n",
    "        mean_ = (pvt.loc[i, 'revenue'] + pvt.loc[i-1, 'revenue'] + pvt.loc[i-2, 'revenue'] + pvt.loc[i-3, 'revenue']) / 4\n",
    "        ma.append(mean_)\n",
    "    else:\n",
    "        mean_ = (pvt.loc[i, 'revenue'] + pvt.loc[i-1, 'revenue'] + pvt.loc[i-2, 'revenue'] + pvt.loc[i-3, 'revenue'] + pvt.loc[i-4, 'revenue']) / 5\n",
    "        ma.append(mean_)\n",
    "\n",
    "pvt['ma5'] = pd.DataFrame({'ma5':ma})\n",
    "pvt = pvt.set_index('Periode')"
   ]
  },
  {
   "cell_type": "code",
   "execution_count": 11,
   "metadata": {},
   "outputs": [
    {
     "data": {
      "image/png": "[encoded data removed]",
      "text/plain": [
       "<Figure size 1000x500 with 1 Axes>"
      ]
     },
     "metadata": {},
     "output_type": "display_data"
    }
   ],
   "source": [
    "# Plotting the result\n",
    "ax= pvt.plot(kind='line', figsize=(10,5))\n",
    "ax.ticklabel_format(style='plain', axis='y')\n",
    "ax.yaxis.set_major_formatter(plt.FuncFormatter(lambda y, _: f'{y:,.0f}'))\n",
    "plt.xlabel('')\n",
    "plt.ylabel('Revenue in USD')\n",
    "plt.title(f'Evolution of the revenue per month for the {store}')\n",
    "plt.show()"
   ]
  }
 ],
 "metadata": {
  "kernelspec": {
   "display_name": "base",
   "language": "python",
   "name": "python3"
  },
  "language_info": {
   "codemirror_mode": {
    "name": "ipython",
    "version": 3
   },
   "file_extension": ".py",
   "mimetype": "text/x-python",
   "name": "python",
   "nbconvert_exporter": "python",
   "pygments_lexer": "ipython3",
   "version": "3.12.4"
  }
 },
 "nbformat": 4,
 "nbformat_minor": 2
}
